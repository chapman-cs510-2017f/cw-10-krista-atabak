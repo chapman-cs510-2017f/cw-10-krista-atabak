{
 "cells": [
  {
   "cell_type": "markdown",
   "metadata": {
    "collapsed": false
   },
   "source": [
    "It creates two arrays one Integer type of lenght 10 and allocate the enough memmory for 10 integers. and put the 0-9 numbers in it.\n",
    "Creats a string which in C string actually is an array of characters.\n",
    "Then it Prints the 10 block of memmory which was allocated and 3 next blocks of memmroy which contains the data of other programs(has random values).\n"
   ]
  },
  {
   "cell_type": "code",
   "execution_count": 1,
   "metadata": {
    "collapsed": false
   },
   "outputs": [
    {
     "name": "stdout",
     "output_type": "stream",
     "text": [
      "array[0] : 0\t*(memblock + 0) : 0\tfoo[0] : F\t*(foo + 0) : F\n"
     ]
    },
    {
     "name": "stdout",
     "output_type": "stream",
     "text": [
      "array[1] : 1\t*(memblock + 1) : 1\tfoo[1] : o\t*(foo + 1) : o\n"
     ]
    },
    {
     "name": "stdout",
     "output_type": "stream",
     "text": [
      "array[2] : 2\t*(memblock + 2) : 2\tfoo[2] : o\t*(foo + 2) : o\n"
     ]
    },
    {
     "name": "stdout",
     "output_type": "stream",
     "text": [
      "array[3] : 3\t*(memblock + 3) : 3\tfoo[3] :  \t*(foo + 3) :  \n"
     ]
    },
    {
     "name": "stdout",
     "output_type": "stream",
     "text": [
      "array[4] : 4\t*(memblock + 4) : 4\tfoo[4] : b\t*(foo + 4) : b\n"
     ]
    },
    {
     "name": "stdout",
     "output_type": "stream",
     "text": [
      "array[5] : 5\t*(memblock + 5) : 5\tfoo[5] : a\t*(foo + 5) : a\n"
     ]
    },
    {
     "name": "stdout",
     "output_type": "stream",
     "text": [
      "array[6] : 6\t*(memblock + 6) : 6\tfoo[6] : r\t*(foo + 6) : r\n"
     ]
    },
    {
     "name": "stdout",
     "output_type": "stream",
     "text": [
      "array[7] : 7\t*(memblock + 7) : 7\tfoo[7] :  \t*(foo + 7) :  \n"
     ]
    },
    {
     "name": "stdout",
     "output_type": "stream",
     "text": [
      "array[8] : 8\t*(memblock + 8) : 8\tfoo[8] : .\t*(foo + 8) : .\n"
     ]
    },
    {
     "name": "stdout",
     "output_type": "stream",
     "text": [
      "array[9] : 9\t*(memblock + 9) : 9\tfoo[9] : \u0000\t*(foo + 9) : \u0000\n"
     ]
    },
    {
     "name": "stdout",
     "output_type": "stream",
     "text": [
      "array[10] : -1635195392\t*(memblock + 10) : 1041\tfoo[10] : m\t*(foo + 10) : m\n"
     ]
    },
    {
     "name": "stdout",
     "output_type": "stream",
     "text": [
      "array[11] : -763395597\t*(memblock + 11) : 0\tfoo[11] : a\t*(foo + 11) : a\n"
     ]
    },
    {
     "name": "stdout",
     "output_type": "stream",
     "text": [
      "array[12] : 0\t*(memblock + 12) : 1634890337\tfoo[12] : l\t*(foo + 12) : l\n"
     ]
    }
   ],
   "source": [
    "./src/arrays/arrays"
   ]
  },
  {
   "cell_type": "code",
   "execution_count": 2,
   "metadata": {
    "collapsed": false
   },
   "outputs": [
    {
     "name": "stdout",
     "output_type": "stream",
     "text": [
      "array[0] : 0.000000\t*(memblock + 0) : 0\tfoo[0] : F\t*(foo + 0) : F\n"
     ]
    },
    {
     "name": "stdout",
     "output_type": "stream",
     "text": [
      "array[1] : 1.100000\t*(memblock + 1) : 1\tfoo[1] : o\t*(foo + 1) : o\n"
     ]
    },
    {
     "name": "stdout",
     "output_type": "stream",
     "text": [
      "array[2] : 2.200000\t*(memblock + 2) : 2\tfoo[2] : o\t*(foo + 2) : o\n"
     ]
    },
    {
     "name": "stdout",
     "output_type": "stream",
     "text": [
      "array[3] : 3.300000\t*(memblock + 3) : 3\tfoo[3] :  \t*(foo + 3) :  \n"
     ]
    },
    {
     "name": "stdout",
     "output_type": "stream",
     "text": [
      "array[4] : 4.400000\t*(memblock + 4) : 4\tfoo[4] : b\t*(foo + 4) : b\n"
     ]
    },
    {
     "name": "stdout",
     "output_type": "stream",
     "text": [
      "array[5] : 5.500000\t*(memblock + 5) : 5\tfoo[5] : a\t*(foo + 5) : a\n"
     ]
    },
    {
     "name": "stdout",
     "output_type": "stream",
     "text": [
      "array[6] : 6.600000\t*(memblock + 6) : 6\tfoo[6] : r\t*(foo + 6) : r\n"
     ]
    },
    {
     "name": "stdout",
     "output_type": "stream",
     "text": [
      "array[7] : 7.700000\t*(memblock + 7) : 7\tfoo[7] :  \t*(foo + 7) :  \n"
     ]
    },
    {
     "name": "stdout",
     "output_type": "stream",
     "text": [
      "array[8] : 8.800000\t*(memblock + 8) : 8\tfoo[8] : .\t*(foo + 8) : .\n"
     ]
    },
    {
     "name": "stdout",
     "output_type": "stream",
     "text": [
      "array[9] : 9.900000\t*(memblock + 9) : 9\tfoo[9] : \u0000\t*(foo + 9) : \u0000\n"
     ]
    },
    {
     "name": "stdout",
     "output_type": "stream",
     "text": [
      "array[10] : 0.000000\t*(memblock + 10) : 1041\tfoo[10] : a\t*(foo + 10) : a\n"
     ]
    },
    {
     "name": "stdout",
     "output_type": "stream",
     "text": [
      "array[11] : 0.000000\t*(memblock + 11) : 0\tfoo[11] : r\t*(foo + 11) : r\n"
     ]
    },
    {
     "name": "stdout",
     "output_type": "stream",
     "text": [
      "array[12] : 0.000000\t*(memblock + 12) : 1634890337\tfoo[12] : r\t*(foo + 12) : r\n"
     ]
    }
   ],
   "source": [
    "./src/arrays/arrays"
   ]
  },
  {
   "cell_type": "code",
   "execution_count": 4,
   "metadata": {
    "collapsed": false
   },
   "outputs": [
    {
     "name": "stdout",
     "output_type": "stream",
     "text": [
      "array[0] : 0.000000\t*(memblock + 0) : 0.000000\tfoo[0] : F\t*(foo + 0) : F\n"
     ]
    },
    {
     "name": "stdout",
     "output_type": "stream",
     "text": [
      "array[1] : 1.100000\t*(memblock + 1) : 1.100000\tfoo[1] : o\t*(foo + 1) : o\n"
     ]
    },
    {
     "name": "stdout",
     "output_type": "stream",
     "text": [
      "array[2] : 2.200000\t*(memblock + 2) : 2.200000\tfoo[2] : o\t*(foo + 2) : o\n"
     ]
    },
    {
     "name": "stdout",
     "output_type": "stream",
     "text": [
      "array[3] : 3.300000\t*(memblock + 3) : 3.300000\tfoo[3] :  \t*(foo + 3) :  \n"
     ]
    },
    {
     "name": "stdout",
     "output_type": "stream",
     "text": [
      "array[4] : 4.400000\t*(memblock + 4) : 4.400000\tfoo[4] : b\t*(foo + 4) : b\n"
     ]
    },
    {
     "name": "stdout",
     "output_type": "stream",
     "text": [
      "array[5] : 5.500000\t*(memblock + 5) : 5.500000\tfoo[5] : a\t*(foo + 5) : a\n"
     ]
    },
    {
     "name": "stdout",
     "output_type": "stream",
     "text": [
      "array[6] : 6.600000\t*(memblock + 6) : 6.600000\tfoo[6] : r\t*(foo + 6) : r\n"
     ]
    },
    {
     "name": "stdout",
     "output_type": "stream",
     "text": [
      "array[7] : 7.700000\t*(memblock + 7) : 7.700000\tfoo[7] :  \t*(foo + 7) :  \n"
     ]
    },
    {
     "name": "stdout",
     "output_type": "stream",
     "text": [
      "array[8] : 8.800000\t*(memblock + 8) : 8.800000\tfoo[8] : .\t*(foo + 8) : .\n"
     ]
    },
    {
     "name": "stdout",
     "output_type": "stream",
     "text": [
      "array[9] : 9.900000\t*(memblock + 9) : 9.900000\tfoo[9] : \u0000\t*(foo + 9) : \u0000\n"
     ]
    },
    {
     "name": "stdout",
     "output_type": "stream",
     "text": [
      "array[10] : 0.000000\t*(memblock + 10) : nan\tfoo[10] : a\t*(foo + 10) : a\n"
     ]
    },
    {
     "name": "stdout",
     "output_type": "stream",
     "text": [
      "array[11] : 0.000000\t*(memblock + 11) : nan\tfoo[11] : r\t*(foo + 11) : r\n"
     ]
    },
    {
     "name": "stdout",
     "output_type": "stream",
     "text": [
      "array[12] : 0.000000\t*(memblock + 12) : nan\tfoo[12] : r\t*(foo + 12) : r\n"
     ]
    }
   ],
   "source": [
    "./src/arrays/arrays\n"
   ]
  },
  {
   "cell_type": "code",
   "execution_count": 0,
   "metadata": {
    "collapsed": false
   },
   "outputs": [
   ],
   "source": [
    "\"malloc\" allocates the requested memory and \"free\" is deallocates the memmory previously allocated."
   ]
  }
 ],
 "metadata": {
  "kernelspec": {
   "display_name": "Bash (Linux)",
   "language": "bash",
   "name": "bash"
  },
  "language_info": {
   "codemirror_mode": "shell",
   "file_extension": ".sh",
   "mimetype": "text/x-sh",
   "name": "bash"
  }
 },
 "nbformat": 4,
 "nbformat_minor": 0
}